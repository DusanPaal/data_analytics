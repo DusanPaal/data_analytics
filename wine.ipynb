{
 "cells": [
  {
   "cell_type": "code",
   "execution_count": 96,
   "id": "dc722177-a5f1-41dd-9139-4d3ae669dd49",
   "metadata": {},
   "outputs": [],
   "source": [
    "# increase the output width to cover all\n",
    "# the summary columns in a single row\n",
    "options(width = 210) \n",
    "\n",
    "# imports\n",
    "library('ggplot2')\n",
    "library('dplyr')\n",
    "library('pwr')"
   ]
  },
  {
   "cell_type": "code",
   "execution_count": 3,
   "id": "c4145241-b901-419d-9749-7021d9fa84f1",
   "metadata": {},
   "outputs": [],
   "source": [
    "# read wine data from files\n",
    "red_wine = read.csv('data/wine/winequality-red.csv', sep=';')\n",
    "white_wine = read.csv('data/wine/winequality-white.csv', sep=';')\n",
    "\n",
    "# replace spaces in column names by underscores \n",
    "# for better data manipulation in the code\n",
    "colnames(red_wine) <- gsub('\\\\.', '_', colnames(red_wine))\n",
    "colnames(white_wine) <- gsub('\\\\.', '_', colnames(white_wine))"
   ]
  },
  {
   "cell_type": "code",
   "execution_count": 42,
   "id": "939afa6c-7362-484d-b0ea-8cf228e5aa76",
   "metadata": {},
   "outputs": [
    {
     "data": {
      "text/html": [
       "<table class=\"dataframe\">\n",
       "<caption>A data.frame: 6 × 12</caption>\n",
       "<thead>\n",
       "\t<tr><th></th><th scope=col>fixed_acidity</th><th scope=col>volatile_acidity</th><th scope=col>citric_acid</th><th scope=col>residual_sugar</th><th scope=col>chlorides</th><th scope=col>free_sulfur_dioxide</th><th scope=col>total_sulfur_dioxide</th><th scope=col>density</th><th scope=col>pH</th><th scope=col>sulphates</th><th scope=col>alcohol</th><th scope=col>quality</th></tr>\n",
       "\t<tr><th></th><th scope=col>&lt;dbl&gt;</th><th scope=col>&lt;dbl&gt;</th><th scope=col>&lt;dbl&gt;</th><th scope=col>&lt;dbl&gt;</th><th scope=col>&lt;dbl&gt;</th><th scope=col>&lt;dbl&gt;</th><th scope=col>&lt;dbl&gt;</th><th scope=col>&lt;dbl&gt;</th><th scope=col>&lt;dbl&gt;</th><th scope=col>&lt;dbl&gt;</th><th scope=col>&lt;dbl&gt;</th><th scope=col>&lt;int&gt;</th></tr>\n",
       "</thead>\n",
       "<tbody>\n",
       "\t<tr><th scope=row>1</th><td> 7.4</td><td>0.70</td><td>0.00</td><td>1.9</td><td>0.076</td><td>11</td><td>34</td><td>0.9978</td><td>3.51</td><td>0.56</td><td>9.4</td><td>5</td></tr>\n",
       "\t<tr><th scope=row>2</th><td> 7.8</td><td>0.88</td><td>0.00</td><td>2.6</td><td>0.098</td><td>25</td><td>67</td><td>0.9968</td><td>3.20</td><td>0.68</td><td>9.8</td><td>5</td></tr>\n",
       "\t<tr><th scope=row>3</th><td> 7.8</td><td>0.76</td><td>0.04</td><td>2.3</td><td>0.092</td><td>15</td><td>54</td><td>0.9970</td><td>3.26</td><td>0.65</td><td>9.8</td><td>5</td></tr>\n",
       "\t<tr><th scope=row>4</th><td>11.2</td><td>0.28</td><td>0.56</td><td>1.9</td><td>0.075</td><td>17</td><td>60</td><td>0.9980</td><td>3.16</td><td>0.58</td><td>9.8</td><td>6</td></tr>\n",
       "\t<tr><th scope=row>5</th><td> 7.4</td><td>0.70</td><td>0.00</td><td>1.9</td><td>0.076</td><td>11</td><td>34</td><td>0.9978</td><td>3.51</td><td>0.56</td><td>9.4</td><td>5</td></tr>\n",
       "\t<tr><th scope=row>6</th><td> 7.4</td><td>0.66</td><td>0.00</td><td>1.8</td><td>0.075</td><td>13</td><td>40</td><td>0.9978</td><td>3.51</td><td>0.56</td><td>9.4</td><td>5</td></tr>\n",
       "</tbody>\n",
       "</table>\n"
      ],
      "text/latex": [
       "A data.frame: 6 × 12\n",
       "\\begin{tabular}{r|llllllllllll}\n",
       "  & fixed\\_acidity & volatile\\_acidity & citric\\_acid & residual\\_sugar & chlorides & free\\_sulfur\\_dioxide & total\\_sulfur\\_dioxide & density & pH & sulphates & alcohol & quality\\\\\n",
       "  & <dbl> & <dbl> & <dbl> & <dbl> & <dbl> & <dbl> & <dbl> & <dbl> & <dbl> & <dbl> & <dbl> & <int>\\\\\n",
       "\\hline\n",
       "\t1 &  7.4 & 0.70 & 0.00 & 1.9 & 0.076 & 11 & 34 & 0.9978 & 3.51 & 0.56 & 9.4 & 5\\\\\n",
       "\t2 &  7.8 & 0.88 & 0.00 & 2.6 & 0.098 & 25 & 67 & 0.9968 & 3.20 & 0.68 & 9.8 & 5\\\\\n",
       "\t3 &  7.8 & 0.76 & 0.04 & 2.3 & 0.092 & 15 & 54 & 0.9970 & 3.26 & 0.65 & 9.8 & 5\\\\\n",
       "\t4 & 11.2 & 0.28 & 0.56 & 1.9 & 0.075 & 17 & 60 & 0.9980 & 3.16 & 0.58 & 9.8 & 6\\\\\n",
       "\t5 &  7.4 & 0.70 & 0.00 & 1.9 & 0.076 & 11 & 34 & 0.9978 & 3.51 & 0.56 & 9.4 & 5\\\\\n",
       "\t6 &  7.4 & 0.66 & 0.00 & 1.8 & 0.075 & 13 & 40 & 0.9978 & 3.51 & 0.56 & 9.4 & 5\\\\\n",
       "\\end{tabular}\n"
      ],
      "text/markdown": [
       "\n",
       "A data.frame: 6 × 12\n",
       "\n",
       "| <!--/--> | fixed_acidity &lt;dbl&gt; | volatile_acidity &lt;dbl&gt; | citric_acid &lt;dbl&gt; | residual_sugar &lt;dbl&gt; | chlorides &lt;dbl&gt; | free_sulfur_dioxide &lt;dbl&gt; | total_sulfur_dioxide &lt;dbl&gt; | density &lt;dbl&gt; | pH &lt;dbl&gt; | sulphates &lt;dbl&gt; | alcohol &lt;dbl&gt; | quality &lt;int&gt; |\n",
       "|---|---|---|---|---|---|---|---|---|---|---|---|---|\n",
       "| 1 |  7.4 | 0.70 | 0.00 | 1.9 | 0.076 | 11 | 34 | 0.9978 | 3.51 | 0.56 | 9.4 | 5 |\n",
       "| 2 |  7.8 | 0.88 | 0.00 | 2.6 | 0.098 | 25 | 67 | 0.9968 | 3.20 | 0.68 | 9.8 | 5 |\n",
       "| 3 |  7.8 | 0.76 | 0.04 | 2.3 | 0.092 | 15 | 54 | 0.9970 | 3.26 | 0.65 | 9.8 | 5 |\n",
       "| 4 | 11.2 | 0.28 | 0.56 | 1.9 | 0.075 | 17 | 60 | 0.9980 | 3.16 | 0.58 | 9.8 | 6 |\n",
       "| 5 |  7.4 | 0.70 | 0.00 | 1.9 | 0.076 | 11 | 34 | 0.9978 | 3.51 | 0.56 | 9.4 | 5 |\n",
       "| 6 |  7.4 | 0.66 | 0.00 | 1.8 | 0.075 | 13 | 40 | 0.9978 | 3.51 | 0.56 | 9.4 | 5 |\n",
       "\n"
      ],
      "text/plain": [
       "  fixed_acidity volatile_acidity citric_acid residual_sugar chlorides free_sulfur_dioxide total_sulfur_dioxide density pH   sulphates alcohol quality\n",
       "1  7.4          0.70             0.00        1.9            0.076     11                  34                   0.9978  3.51 0.56      9.4     5      \n",
       "2  7.8          0.88             0.00        2.6            0.098     25                  67                   0.9968  3.20 0.68      9.8     5      \n",
       "3  7.8          0.76             0.04        2.3            0.092     15                  54                   0.9970  3.26 0.65      9.8     5      \n",
       "4 11.2          0.28             0.56        1.9            0.075     17                  60                   0.9980  3.16 0.58      9.8     6      \n",
       "5  7.4          0.70             0.00        1.9            0.076     11                  34                   0.9978  3.51 0.56      9.4     5      \n",
       "6  7.4          0.66             0.00        1.8            0.075     13                  40                   0.9978  3.51 0.56      9.4     5      "
      ]
     },
     "metadata": {},
     "output_type": "display_data"
    }
   ],
   "source": [
    "# output initial rows to get some initial insight  \n",
    "# into the general structure of the data\n",
    "head(red_wine)"
   ]
  },
  {
   "cell_type": "code",
   "execution_count": 90,
   "id": "fe944b2d-6faa-47c4-98eb-274131e6e02f",
   "metadata": {},
   "outputs": [
    {
     "name": "stdout",
     "output_type": "stream",
     "text": [
      "RED WINE: 1599 records \n",
      "        fixed_acidity volatile_acidity citric_acid residual_sugar  chlorides free_sulfur_dioxide total_sulfur_dioxide     density        pH sulphates   alcohol   quality\n",
      "Min          4.600000        0.1200000   0.0000000       0.900000 0.01200000             1.00000              6.00000 0.990070000 2.7400000 0.3300000  8.400000 3.0000000\n",
      "1st Qu.      7.100000        0.3900000   0.0900000       1.900000 0.07000000             7.00000             22.00000 0.995600000 3.2100000 0.5500000  9.500000 5.0000000\n",
      "Median       7.900000        0.5200000   0.2600000       2.200000 0.07900000            14.00000             38.00000 0.996750000 3.3100000 0.6200000 10.200000 6.0000000\n",
      "Mean         8.319637        0.5278205   0.2709756       2.538806 0.08746654            15.87492             46.46779 0.996746679 3.3111132 0.6581488 10.422983 5.6360225\n",
      "3rd Qu.      9.200000        0.6400000   0.4200000       2.600000 0.09000000            21.00000             62.00000 0.997835000 3.4000000 0.7300000 11.100000 6.0000000\n",
      "Max         15.900000        1.5800000   1.0000000      15.500000 0.61100000            72.00000            289.00000 1.003690000 4.0100000 2.0000000 14.900000 8.0000000\n",
      "SD           1.741096        0.1790597   0.1948011       1.409928 0.04706530            10.46016             32.89532 0.001887334 0.1543865 0.1695070  1.065668 0.8075694\n",
      "\n",
      "WHITE WINE: 4898 records \n",
      "        fixed_acidity volatile_acidity citric_acid residual_sugar  chlorides free_sulfur_dioxide total_sulfur_dioxide     density        pH sulphates   alcohol   quality\n",
      "Min         3.8000000        0.0800000   0.0000000       0.600000 0.00900000             2.00000              9.00000 0.987110000 2.7200000 0.2200000  8.000000 3.0000000\n",
      "1st Qu.     6.3000000        0.2100000   0.2700000       1.700000 0.03600000            23.00000            108.00000 0.991722500 3.0900000 0.4100000  9.500000 5.0000000\n",
      "Median      6.8000000        0.2600000   0.3200000       5.200000 0.04300000            34.00000            134.00000 0.993740000 3.1800000 0.4700000 10.400000 6.0000000\n",
      "Mean        6.8547877        0.2782411   0.3341915       6.391415 0.04577236            35.30808            138.36066 0.994027376 3.1882666 0.4898469 10.514267 5.8779094\n",
      "3rd Qu.     7.3000000        0.3200000   0.3900000       9.900000 0.05000000            46.00000            167.00000 0.996100000 3.2800000 0.5500000 11.400000 6.0000000\n",
      "Max        14.2000000        1.1000000   1.6600000      65.800000 0.34600000           289.00000            440.00000 1.038980000 3.8200000 1.0800000 14.200000 9.0000000\n",
      "SD          0.8438682        0.1007945   0.1210198       5.072058 0.02184797            17.00714             42.49806 0.002990907 0.1510006 0.1141258  1.230621 0.8856386\n",
      "\n"
     ]
    }
   ],
   "source": [
    "describe_col <- function(x) {\n",
    "  c(\n",
    "    Min = min(x, na.rm = TRUE),\n",
    "    `1st Qu.` = quantile(x, 0.25, na.rm = TRUE),\n",
    "    Median = median(x, na.rm = TRUE),\n",
    "    Mean = mean(x, na.rm = TRUE),\n",
    "    `3rd Qu.` = quantile(x, 0.75, na.rm = TRUE),\n",
    "    Max = max(x, na.rm = TRUE),\n",
    "    SD = sd(x, na.rm = TRUE)\n",
    "  )\n",
    "}\n",
    "\n",
    "describe <- function(df) {\n",
    "    summary <- df %>%\n",
    "      reframe(across(everything(), describe_col))\n",
    "    summary <- as.data.frame(summary)\n",
    "    rownames(summary) = c('Min', '1st Qu.', 'Median', 'Mean', '3rd Qu.', 'Max', 'SD')\n",
    "    return(summary)\n",
    "}\n",
    "\n",
    "cat(toupper('Red wine:'), nrow(red_wine), 'records', '\\n')\n",
    "red_wine_summary <- describe(red_wine)\n",
    "print(red_wine_summary)\n",
    "cat('\\n')\n",
    "cat(toupper('White wine:'), nrow(white_wine), 'records', '\\n')\n",
    "white_wine_summary <- describe(white_wine)\n",
    "print(white_wine_summary)\n",
    "cat('\\n')"
   ]
  },
  {
   "cell_type": "code",
   "execution_count": 177,
   "id": "e25a92c7-54e1-48e5-8e80-936fcafc72df",
   "metadata": {},
   "outputs": [
    {
     "name": "stdout",
     "output_type": "stream",
     "text": [
      "Number of samples: 20"
     ]
    },
    {
     "data": {
      "text/plain": [
       "\n",
       "\tWelch Two Sample t-test\n",
       "\n",
       "data:  fixed_acidity_red and fixed_acidity_white\n",
       "t = 2.7259, df = 28.584, p-value = 0.005415\n",
       "alternative hypothesis: true difference in means is greater than 0\n",
       "95 percent confidence interval:\n",
       " 0.3895543       Inf\n",
       "sample estimates:\n",
       "mean of x mean of y \n",
       "    8.080     7.045 \n"
      ]
     },
     "metadata": {},
     "output_type": "display_data"
    },
    {
     "data": {
      "image/png": "[encoded data removed]",
      "text/plain": [
       "plot without title"
      ]
     },
     "metadata": {
      "image/png": {
       "height": 420,
       "width": 420
      }
     },
     "output_type": "display_data"
    }
   ],
   "source": [
    "# investigate the fixed acidity\n",
    "\n",
    "cohen_d <- function(x, y) {\n",
    "    # Calculates the Cohen's d (effect size) that represents \n",
    "    # the difference between two means divided by the pooled \n",
    "    # standard deviation.\n",
    "    #\n",
    "    # Cohen's d is used to estimate the effect size between\n",
    "    # two groups.\n",
    "    #\n",
    "    # Parameters:\n",
    "    # -----------\n",
    "    # x: numeric\n",
    "    #    First sample (group 1).\n",
    "    # \n",
    "    # y: numeric\n",
    "    #    Second sample (group 2).\n",
    "    #\n",
    "    # Returns:\n",
    "    # --------\n",
    "    # numeric\n",
    "    #    The calculated Cohen's d, representing the standardized  \n",
    "    #    difference between the means of the two groups.\n",
    "    \n",
    "    # Sample sizes (assuming equal sample sizes for simplicity)\n",
    "    n1 <- length(x)\n",
    "    n2 <- length(y)\n",
    "    \n",
    "    # means\n",
    "    mean1 <- mean(x)\n",
    "    mean2 <- mean(y)\n",
    "    \n",
    "    # Standard deviations\n",
    "    sd1 <- sd(x, na.rm = TRUE)\n",
    "    sd2 <- sd(y, na.rm = TRUE)\n",
    "    \n",
    "    # Pooled standard deviation\n",
    "    sd_pooled <- sqrt(((n1 - 1) * sd1^2 + (n2 - 1) * sd2^2) / (n1 + n2 - 2))\n",
    "    \n",
    "    # Cohen's d\n",
    "    d <- (mean2 - mean1) / sd_pooled\n",
    "\n",
    "    # result\n",
    "    return(d)\n",
    "    \n",
    "}\n",
    "\n",
    "# determine the sample size from which the t-test will be performed\n",
    "cohen_d_val <- cohen_d(white_wine$fixed_acidity, red_wine$fixed_acidity)\n",
    "\n",
    "result <- pwr.t.test(\n",
    "    n= NULL,\n",
    "    d = cohen_d_val,\n",
    "    sig.level=0.05, # standard experiment, so using 5% alpha\n",
    "    power=0.80, # keep it to 80% to avoid type II error\n",
    "    type='two.sample',\n",
    "    alternative='greater' # greater for red wine\n",
    ")\n",
    "\n",
    "# n_samples = ceiling(round(result$n)) # produces too few samples\n",
    "N_SAMPLES = 20\n",
    "cat('Number of samples:', N_SAMPLES)\n",
    "\n",
    "fixed_acidity_red <- sample_n(red_wine, N_SAMPLES)$fixed_acidity\n",
    "fixed_acidity_white <- sample_n(white_wine, N_SAMPLES)$fixed_acidity\n",
    "\n",
    "# plot mean and SD to see how the params\n",
    "# vary in the particular kinds of wine\n",
    "mean_red <- mean(fixed_acidity_red)\n",
    "mean_white <- mean(fixed_acidity_white)\n",
    "sd_red <- sd(fixed_acidity_red)\n",
    "sd_white <- sd(fixed_acidity_white)\n",
    "\n",
    "summary_stats <- data.frame(\n",
    "    Variable = c('red wine', 'White wine'),\n",
    "    Mean = c(mean_red, mean_white),\n",
    "    SD = c(sd_red, sd_white)\n",
    ")\n",
    "\n",
    "ggplot(summary_stats, aes(x = Variable, y = Mean, fill = Variable)) +\n",
    "  geom_bar(stat = \"identity\", position = position_dodge(width = 0.9)) +\n",
    "  geom_errorbar(aes(ymin = Mean - SD, ymax = Mean + SD), width = 0.2, position = position_dodge(width = 0.9)) +\n",
    "  labs(title = \"Means with Standard Deviations for Two Variables\", y = \"Fixed acidity\") +\n",
    "  theme_minimal()\n",
    "\n",
    "# perform t-test on the selected params from red wine and white wine\n",
    "t.test(fixed_acidity_red, fixed_acidity_white, alternative='greater')"
   ]
  },
  {
   "cell_type": "code",
   "execution_count": null,
   "id": "5d3932a6-bc32-44a6-bd80-db3429b0adda",
   "metadata": {},
   "outputs": [],
   "source": []
  },
  {
   "cell_type": "code",
   "execution_count": null,
   "id": "7b2c9ec7-760a-4383-8a83-10352ce96dce",
   "metadata": {},
   "outputs": [],
   "source": []
  }
 ],
 "metadata": {
  "kernelspec": {
   "display_name": "R",
   "language": "R",
   "name": "ir"
  },
  "language_info": {
   "codemirror_mode": "r",
   "file_extension": ".r",
   "mimetype": "text/x-r-source",
   "name": "R",
   "pygments_lexer": "r",
   "version": "4.4.1"
  }
 },
 "nbformat": 4,
 "nbformat_minor": 5
}
